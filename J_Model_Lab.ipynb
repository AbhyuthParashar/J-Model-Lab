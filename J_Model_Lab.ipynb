{
  "nbformat": 4,
  "nbformat_minor": 0,
  "metadata": {
    "colab": {
      "provenance": []
    },
    "kernelspec": {
      "name": "python3",
      "display_name": "Python 3"
    },
    "language_info": {
      "name": "python"
    }
  },
  "cells": [
    {
      "cell_type": "code",
      "execution_count": null,
      "metadata": {
        "id": "4mJSUG1FZ1B3"
      },
      "outputs": [],
      "source": [
        "\n",
import numpy as np
import matplotlib.pyplot as plt
from scipy.interpolate import make_interp_spline
from ipywidgets import interact, FloatSlider

# Leverett J-function
def leverett_j(pc_array, sigma, k, phi):
    return 0.21645 * (pc_array / sigma) * np.sqrt(k / phi)

# sample data
Sw_raw = np.array([1.0, 0.8, 0.6, 0.4, 0.2])
Pc_raw = np.array([0.50, 0.60, 0.75, 1.05, 1.75])  # psi

# Interactive plotting function
def plot_leverett(sigma, k, phi):
    J_raw = leverett_j(Pc_raw, sigma, k, phi)

  
    sorted_indices = np.argsort(Sw_raw)
    Sw_sorted = Sw_raw[sorted_indices]
    J_sorted = J_raw[sorted_indices]

    # Smooth spline interpolation
    Sw_fine = np.linspace(Sw_sorted[0], Sw_sorted[-1], 200)
    spline = make_interp_spline(Sw_sorted, J_sorted, k=3)
    J_smooth = spline(Sw_fine)

    plt.figure(figsize=(8, 5))
    plt.plot(Sw_fine, J_smooth, color='blue', label='Smooth J(Sw)')
    plt.scatter(Sw_raw, J_raw, color='red', label='Original Points')
    plt.xlabel("Water Saturation (Sw)")
    plt.ylabel("Leverett J(Sw)")
    plt.title("Leverett J-Function vs Water Saturation")
    plt.grid(True)
    plt.legend()
    plt.show()

# Interactive sliders 
interact(
    plot_leverett,
    sigma=FloatSlider(value=30, min=1, max=100, step=1, description='σ (dynes/cm)'),
    k=FloatSlider(value=80, min=1, max=500, step=5, description='k (md)'),
    phi=FloatSlider(value=0.16, min=0.05, max=0.35, step=0.01, description='ϕ')
)
      ]
    }
  ]
}
