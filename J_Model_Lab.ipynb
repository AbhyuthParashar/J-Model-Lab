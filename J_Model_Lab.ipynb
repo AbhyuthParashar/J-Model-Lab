{
  "nbformat": 4,
  "nbformat_minor": 0,
  "metadata": {
    "colab": {
      "provenance": []
    },
    "kernelspec": {
      "name": "python3",
      "display_name": "Python 3"
    },
    "language_info": {
      "name": "python"
    }
  },
  "cells": [
    {
      "cell_type": "code",
      "execution_count": null,
      "metadata": {
        "id": "4mJSUG1FZ1B3"
      },
      "outputs": [],
      "source": [
        "\n",
        "import numpy as np\n",
        "import matplotlib.pyplot as plt\n",
        "from scipy.optimize import curve_fit\n",
        "from ipywidgets import interact, FloatSlider\n",
        "\n",
        "# Sample lab data\n",
        "Sw_data = np.array([1, 0.8, 0.6, 0.4, 0.2])\n",
        "Pc_data = np.array([0.5, 0.6, 0.75, 1.05, 1.75])  # psi\n",
        "\n",
        "# Leverett J-function\n",
        "def leverett_j(Sw, A, b, Swr, Sor):\n",
        "    Swe = (Sw - Swr) / (1 - Swr - Sor)\n",
        "    Swe = np.clip(Swe, 1e-6, 1.0)\n",
        "    return A * Swe ** (-b)\n",
        "\n",
        "#Fit using curve_fit ===\n",
        "initial_guess = [1.0, 2.0, 0.15, 0.05]\n",
        "bounds = ([0.01, 0.5, 0.0, 0.0], [100.0, 5.0, 0.4, 0.3])\n",
        "\n",
        "popt, _ = curve_fit(leverett_j, Sw_data, Pc_data, p0=initial_guess, bounds=bounds, maxfev=20000)\n",
        "A_fit, b_fit, Swr_fit, Sor_fit = popt\n",
        "\n",
        "print(\"✅ Fitted Parameters:\")\n",
        "print(f\"A = {A_fit:.4f}, b = {b_fit:.4f}, Swr = {Swr_fit:.4f}, Sor = {Sor_fit:.4f}\")\n",
        "\n",
        "# = Plotting function with sliders ===\n",
        "def plot_interactive(A=A_fit, b=b_fit, Swr=Swr_fit, Sor=Sor_fit):\n",
        "    Sw_range = np.linspace(0.6, 0.9, 200)\n",
        "    Pc_model = leverett_j(Sw_range, A, b, Swr, Sor)\n",
        "\n",
        "    plt.figure(figsize=(8,6))\n",
        "    plt.plot(Sw_data, Pc_data, 'ro', label='Lab Data')\n",
        "    plt.plot(Sw_range, Pc_model, 'b-', label='Model Curve')\n",
        "    plt.xlabel('Water Saturation (Sw)')\n",
        "    plt.ylabel('Capillary Pressure (Pc) [psi]')\n",
        "    plt.title('Leverett J-function Fit with Sliders')\n",
        "    plt.grid(True)\n",
        "    plt.legend()\n",
        "    plt.show()\n",
        "\n",
        "# === Interactive sliders (start from best-fit values) ===\n",
        "interact(plot_interactive,\n",
        "         A=FloatSlider(min=0.1, max=10.0, step=0.1, value=A_fit),\n",
        "         b=FloatSlider(min=0.5, max=5.0, step=0.1, value=b_fit),\n",
        "         Swr=FloatSlider(min=0.0, max=0.4, step=0.01, value=Swr_fit),\n",
        "         Sor=FloatSlider(min=0.0, max=0.3, step=0.01, value=Sor_fit))"
      ]
    }
  ]
}
