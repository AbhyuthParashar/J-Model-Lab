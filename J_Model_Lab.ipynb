{
  "nbformat": 4,
  "nbformat_minor": 0,
  "metadata": {
    "colab": {
      "provenance": []
    },
    "kernelspec": {
      "name": "python3",
      "display_name": "Python 3"
    },
    "language_info": {
      "name": "python"
    }
  },
  "cells": [
    {
      "cell_type": "code",
      "execution_count": null,
      "metadata": {
        "id": "HDivyxeMhtPF"
      },
      "outputs": [],
      "source": [
        
        "!pip install ipywidgets scipy --quiet\n",
        "\n",
        "import numpy as np\n",
        "import matplotlib.pyplot as plt\n",
        "from scipy.interpolate import make_interp_spline\n",
        "from ipywidgets import interact, FloatSlider\n",
        "\n",
        "# Leverett J-function\n",
        "def leverett_j(pc_array, sigma, k, phi):\n",
        "    return 0.21645 * (pc_array / sigma) * np.sqrt(k / phi)\n",
        "\n",
        "# sample data\n",
        "Sw_raw = np.array([1.0, 0.8, 0.6, 0.4, 0.2])\n",
        "Pc_raw = np.array([0.50, 0.60, 0.75, 1.05, 1.75])  # psi\n",
        "\n",
        "# Interactive plotting function\n",
        "def plot_leverett(sigma, k, phi):\n",
        "    J_raw = leverett_j(Pc_raw, sigma, k, phi)\n",
        "\n",
        "    sorted_indices = np.argsort(Sw_raw)\n",
        "    Sw_sorted = Sw_raw[sorted_indices]\n",
        "    J_sorted = J_raw[sorted_indices]\n",
        "\n",
        "    # Smooth spline interpolation\n",
        "    Sw_fine = np.linspace(Sw_sorted[0], Sw_sorted[-1], 200)\n",
        "    spline = make_interp_spline(Sw_sorted, J_sorted, k=3)\n",
        "    J_smooth = spline(Sw_fine)\n",
        "\n",
        "    plt.figure(figsize=(8, 5))\n",
        "    plt.plot(Sw_fine, J_smooth, color='blue', label='Smooth J(Sw)')\n",
        "    plt.scatter(Sw_raw, J_raw, color='red', label='Original Points')\n",
        "    plt.xlabel(\"Water Saturation (Sw)\")\n",
        "    plt.ylabel(\"Leverett J(Sw)\")\n",
        "    plt.title(\"Leverett J-Function vs Water Saturation\")\n",
        "    plt.grid(True)\n",
        "    plt.legend()\n",
        "    plt.show()\n",
        "\n",
        "# Interactive sliders\n",
        "interact(\n",
        "    plot_leverett,\n",
        "    sigma=FloatSlider(value=30, min=1, max=100, step=1, description='σ (dynes/cm)'),\n",
        "    k=FloatSlider(value=80, min=1, max=500, step=5, description='k (md)'),\n",
        "    phi=FloatSlider(value=0.16, min=0.05, max=0.35, step=0.01, description='ϕ')\n",
        ")"
      ]
    }
  ]
}
